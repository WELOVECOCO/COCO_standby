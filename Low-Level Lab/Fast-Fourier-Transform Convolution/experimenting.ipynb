{
 "cells": [
  {
   "cell_type": "code",
   "execution_count": 11,
   "id": "9bbcee85",
   "metadata": {},
   "outputs": [
    {
     "ename": "ModuleNotFoundError",
     "evalue": "No module named 'FasterCoco'",
     "output_type": "error",
     "traceback": [
      "\u001b[1;31m---------------------------------------------------------------------------\u001b[0m",
      "\u001b[1;31mModuleNotFoundError\u001b[0m                       Traceback (most recent call last)",
      "Cell \u001b[1;32mIn[11], line 4\u001b[0m\n\u001b[0;32m      2\u001b[0m \u001b[38;5;28;01mfrom\u001b[39;00m \u001b[38;5;21;01mPIL\u001b[39;00m \u001b[38;5;28;01mimport\u001b[39;00m Image\n\u001b[0;32m      3\u001b[0m \u001b[38;5;28;01mimport\u001b[39;00m \u001b[38;5;21;01mmatplotlib\u001b[39;00m\u001b[38;5;21;01m.\u001b[39;00m\u001b[38;5;21;01mpyplot\u001b[39;00m \u001b[38;5;28;01mas\u001b[39;00m \u001b[38;5;21;01mplt\u001b[39;00m\n\u001b[1;32m----> 4\u001b[0m \u001b[38;5;28;01mfrom\u001b[39;00m \u001b[38;5;21;01mFasterCoco\u001b[39;00m \u001b[38;5;28;01mimport\u001b[39;00m FFTConvolver\n",
      "\u001b[1;31mModuleNotFoundError\u001b[0m: No module named 'FasterCoco'"
     ]
    }
   ],
   "source": [
    "import numpy as np\n",
    "from PIL import Image\n",
    "import matplotlib.pyplot as plt\n",
    "from FasterCoco import FFTConvolver"
   ]
  },
  {
   "cell_type": "code",
   "execution_count": null,
   "id": "ec817a03",
   "metadata": {},
   "outputs": [],
   "source": [
    "# Load and preprocess image\n",
    "img = Image.open(\"example.jpg\").convert(\"L\")  # Convert to grayscale\n",
    "img_np = np.array(img, dtype=np.float32) / 255.0\n",
    "\n",
    "# Shape it to (Batch, Channel, Height, Width)\n",
    "input_tensor = img_np[None, None, :, :]\n",
    "\n",
    "# Example kernel: simple 3x3 Sobel filter\n",
    "sobel_kernel = np.array([\n",
    "    [-1, 0, 1],\n",
    "    [-2, 0, 2],\n",
    "    [-1, 0, 1]\n",
    "], dtype=np.float32)\n",
    "\n",
    "# Shape to (C, H, W) where C matches input channels\n",
    "kernel_tensor = sobel_kernel[None, :, :]  # Assuming single channel\n",
    "\n",
    "# Call C++ FFT-based convolver\n",
    "convolver = FFTConvolver()\n",
    "output = convolver.convolve(input_tensor, kernel_tensor)\n",
    "\n",
    "# Display result\n",
    "plt.subplot(1, 2, 1)\n",
    "plt.title(\"Input\")\n",
    "plt.imshow(img_np, cmap=\"gray\")\n",
    "\n",
    "plt.subplot(1, 2, 2)\n",
    "plt.title(\"Convolved Output\")\n",
    "plt.imshow(output[0, 0], cmap=\"gray\")\n",
    "plt.show()"
   ]
  },
  {
   "cell_type": "code",
   "execution_count": null,
   "id": "915b6848",
   "metadata": {},
   "outputs": [],
   "source": []
  }
 ],
 "metadata": {
  "kernelspec": {
   "display_name": "deeplearning",
   "language": "python",
   "name": "python3"
  },
  "language_info": {
   "codemirror_mode": {
    "name": "ipython",
    "version": 3
   },
   "file_extension": ".py",
   "mimetype": "text/x-python",
   "name": "python",
   "nbconvert_exporter": "python",
   "pygments_lexer": "ipython3",
   "version": "3.12.8"
  }
 },
 "nbformat": 4,
 "nbformat_minor": 5
}

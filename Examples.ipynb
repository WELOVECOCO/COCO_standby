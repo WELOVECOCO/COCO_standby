{
 "cells": [
  {
   "cell_type": "markdown",
   "id": "f067ce0f",
   "metadata": {},
   "source": [
    "# BRIEF\n",
    "IT NOW CAN PERFORM REGRESSION AND multi class CLASSIFICATION\n",
    "\n"
   ]
  },
  {
   "cell_type": "markdown",
   "id": "66146b8c",
   "metadata": {},
   "source": []
  },
  {
   "cell_type": "code",
   "execution_count": null,
   "id": "68f5cced",
   "metadata": {
    "ExecuteTime": {
     "end_time": "2025-02-05T12:49:45.975100Z",
     "start_time": "2025-02-05T12:49:38.574724Z"
    }
   },
   "outputs": [],
   "source": [
    "import torch\n",
    "import torch.nn as nn\n",
    "import torch.optim as optim\n",
    "from torch.utils.data import DataLoader\n",
    "import torchvision\n",
    "import torchvision.transforms as transforms\n",
    "import time\n",
    "import numpy as np\n",
    "from sklearn.datasets import fetch_openml\n",
    "from sklearn.preprocessing import OneHotEncoder\n",
    "from core.nn import Linear,batchnorm1d,Conv2d,MaxPool2d\n",
    "from core.Models import Model\n",
    "from core.Function import tanh,relu,softmax"
   ]
  },
  {
   "cell_type": "code",
   "execution_count": null,
   "id": "27935ed0",
   "metadata": {
    "ExecuteTime": {
     "end_time": "2025-02-05T12:49:54.019034Z",
     "start_time": "2025-02-05T12:49:45.980132Z"
    }
   },
   "outputs": [],
   "source": [
    "\n",
    "\n",
    "# Load Fashion MNIST dataset using Scikit-Learn\n",
    "fashion_mnist = fetch_openml('Fashion-MNIST', version=1, as_frame=False)\n",
    "images, labels = fashion_mnist[\"data\"], fashion_mnist[\"target\"].astype(int)\n",
    "\n",
    "# Normalize pixel values to the range [0, 1]\n",
    "images = images.astype('float32') / 255.0\n",
    "\n",
    "# Reshape images from (num_samples, 784) to (num_samples, 1, 28, 28)\n",
    "images = images.reshape((-1, 28*28))  # Convert to 4D for Conv2D: [B, C, H, W]\n",
    "\n",
    "# Split into train and test sets\n",
    "train_images_2d, test_images_2d = images[:60000], images[60000:]\n",
    "train_labels_2d, test_labels_2d = labels[:60000], labels[60000:]\n",
    "\n",
    "# One-hot encode the labels\n",
    "encoder = OneHotEncoder()\n",
    "train_labels_2d = encoder.fit_transform(train_labels_2d.reshape(-1, 1)).toarray()\n",
    "test_labels_2d = encoder.transform(test_labels_2d.reshape(-1, 1)).toarray()\n",
    "\n",
    "# Print shapes to verify\n",
    "print(\"Train images shape:\", train_images_2d.shape)  # (60000, 784)\n",
    "print(\"Train labels shape:\", train_labels_2d.shape)  # (60000, 10)\n",
    "print(\"Test images shape:\", test_images_2d.shape)    # (10000, 784)\n",
    "print(\"Test labels shape:\", test_labels_2d.shape)    # (10000, 10)\n"
   ]
  },
  {
   "cell_type": "code",
   "execution_count": null,
   "id": "e237b2fa",
   "metadata": {
    "ExecuteTime": {
     "end_time": "2025-02-05T12:50:18.721790Z",
     "start_time": "2025-02-05T12:50:10.798456Z"
    }
   },
   "outputs": [],
   "source": [
    "\n",
    "\n",
    "# Load Fashion MNIST dataset using Scikit-Learn\n",
    "fashion_mnist = fetch_openml('Fashion-MNIST', version=1, as_frame=False)\n",
    "images, labels = fashion_mnist[\"data\"], fashion_mnist[\"target\"].astype(int)\n",
    "\n",
    "# Normalize pixel values to the range [0, 1]\n",
    "images = images.astype('float32') / 255.0\n",
    "\n",
    "# Reshape images from (num_samples, 784) to (num_samples, 1, 28, 28)\n",
    "images = images.reshape((-1, 1, 28, 28))  # Convert to 4D for Conv2D: [B, C, H, W]\n",
    "\n",
    "# Split into train and test sets\n",
    "train_images, test_images = images[:60000], images[60000:]\n",
    "train_labels, test_labels = labels[:60000], labels[60000:]\n",
    "\n",
    "# One-hot encode the labels\n",
    "encoder = OneHotEncoder()\n",
    "train_labels = encoder.fit_transform(train_labels.reshape(-1, 1)).toarray()\n",
    "test_labels = encoder.transform(test_labels.reshape(-1, 1)).toarray()\n",
    "\n",
    "# Print shapes to verify\n",
    "print(\"Train images shape:\", train_images.shape)  # (60000, 1, 28, 28)\n",
    "print(\"Train labels shape:\", train_labels.shape)  # (60000, 10)\n",
    "print(\"Test images shape:\", test_images.shape)    # (10000, 1, 28, 28)\n",
    "print(\"Test labels shape:\", test_labels.shape)    # (10000, 10)\n"
   ]
  },
  {
   "cell_type": "code",
   "execution_count": null,
   "id": "b4e16287",
   "metadata": {
    "ExecuteTime": {
     "end_time": "2025-02-05T13:02:50.431798Z",
     "start_time": "2025-02-05T12:50:18.725957Z"
    }
   },
   "outputs": [],
   "source": [
    "from core.nn import Linear,batchnorm1d,Conv2d,MaxPool2d\n",
    "from core.Models import Model\n",
    "from core.Function import tanh,relu,softmax\n",
    "class model(Model):\n",
    "    def __init__(self):\n",
    "        super().__init__()\n",
    "        self.conv1 = Conv2d(input_channels=1, output_channels=8, kernel_size=3, stride=1, padding=1,initialize_type='xavier')\n",
    "        self.tanh1 = tanh()\n",
    "        self.max1 = MaxPool2d(kernel_size=2, stride=2)\n",
    "        self.conv2 = Conv2d(input_channels=8, output_channels=16, kernel_size=3, stride=1, padding=1,initialize_type='xavier')\n",
    "        self.tanh2 = tanh()\n",
    "        self.max2 = MaxPool2d(kernel_size=2, stride=2)\n",
    "        self.linear1 = Linear((16 * 7 * 7,50),initialize_type='xavier')\n",
    "        self.tanh3 = tanh()\n",
    "        self.linear2 = Linear((50,10),initialize_type='xavier')\n",
    "        self.softmaxx = softmax()\n",
    "\n",
    "    def forward(self, x):\n",
    "        x = self.conv1(x)\n",
    "        x = self.tanh1(x)\n",
    "        x = self.max1(x)\n",
    "        x = self.conv2(x)\n",
    "        x = self.tanh2(x)\n",
    "        x = self.max2(x)\n",
    "        x = self.linear1(x)\n",
    "        x = self.tanh3(x)\n",
    "        x = self.linear2(x)\n",
    "        x = self.softmaxx(x)\n",
    "        return x\n",
    "    \n",
    "\n",
    "model_coco = model()\n",
    "model_coco.summary()\t\n"
   ]
  },
  {
   "cell_type": "code",
   "execution_count": null,
   "id": "2ec8179d",
   "metadata": {
    "ExecuteTime": {
     "end_time": "2025-02-05T13:02:50.437810Z",
     "start_time": "2025-02-05T13:02:50.433807Z"
    }
   },
   "outputs": [],
   "source": [
    "from core.utils import gradient_check\n",
    "from core.loss import sparse_categorical_cross_entropy\n",
    "\n",
    "\n",
    "\n",
    "gradient_check(model=model_coco,X=test_images[:1],Y=test_labels[:1],loss_fn=sparse_categorical_cross_entropy)"
   ]
  },
  {
   "cell_type": "code",
   "execution_count": null,
   "id": "24959a98",
   "metadata": {},
   "outputs": [],
   "source": [
    "model_coco.train(train_images, train_labels, epochs=10, batch_size=64, learning_rate=0.001, optimizer=\"sgd\",verbose=1)"
   ]
  },
  {
   "cell_type": "code",
   "execution_count": null,
   "id": "f8456c0c",
   "metadata": {},
   "outputs": [],
   "source": [
    "from core.utils import save_model\n",
    "\n",
    "save_model(model_coco)\n",
    "\"\"\"\n",
    "\n",
    "BAD IMPLEMENTATION\n",
    "\n",
    "\"\"\""
   ]
  },
  {
   "cell_type": "code",
   "execution_count": null,
   "id": "7fd36d54",
   "metadata": {
    "ExecuteTime": {
     "end_time": "2025-02-05T13:05:51.342355Z",
     "start_time": "2025-02-05T13:05:44.398294Z"
    }
   },
   "outputs": [],
   "source": [
    "# Reshape test data for Conv2d input (example for MNIST)\n",
    "test_images_4d = test_images.reshape(-1, 1, 28, 28)  # Adjust dimensions as needed\n",
    "\n",
    "# Predict\n",
    "y_pred = model_coco(test_images_4d)\n",
    "y_pred_classes = np.argmax(y_pred, axis=1, keepdims=True)\n",
    "\n",
    "# Use integer labels directly (if test_labels are not one-hot)\n",
    "y_true_classes = np.argmax(test_labels, axis=1, keepdims=True)  # Assuming test_labels are integers\n",
    "print(\"ypred_shape\",y_pred_classes.shape)\n",
    "print(\"y_true_shape\",y_true_classes.shape)\n",
    "# Calculate accuracy\n",
    "accuracy = np.mean(y_pred_classes == y_true_classes)\n",
    "print(f\"Accuracy on test set: {accuracy:.4f}\")"
   ]
  },
  {
   "cell_type": "code",
   "execution_count": null,
   "id": "cb38d803",
   "metadata": {},
   "outputs": [],
   "source": [
    "model_coco.plot_loss()"
   ]
  },
  {
   "cell_type": "code",
   "execution_count": null,
   "id": "209c7fe2",
   "metadata": {
    "ExecuteTime": {
     "end_time": "2025-02-05T12:50:10.795931Z",
     "start_time": "2025-02-05T12:49:54.021085Z"
    }
   },
   "outputs": [],
   "source": [
    "class FashionMNISTModel(nn.Module):\n",
    "    def __init__(self):\n",
    "        super(FashionMNISTModel, self).__init__()\n",
    "        self.conv1 = nn.Conv2d(in_channels=1, out_channels=8, kernel_size=3, stride=1, padding=1)\n",
    "        self.tanh1 = nn.Tanh()\n",
    "        self.max1 = nn.MaxPool2d(kernel_size=2, stride=2)\n",
    "        self.conv2 = nn.Conv2d(in_channels=8, out_channels=16, kernel_size=3, stride=1, padding=1)\n",
    "        self.tanh2 = nn.Tanh()\n",
    "        self.max2 = nn.MaxPool2d(kernel_size=2, stride=2)\n",
    "        self.flatten = nn.Flatten()\n",
    "        self.fc1 = nn.Linear(16 * 7 * 7, 50) \n",
    "        self.tanh3 = nn.Tanh()\n",
    "        self.fc2 = nn.Linear(50, 10)\n",
    "        \n",
    "\n",
    "    def forward(self, x):\n",
    "       \n",
    "        x = self.conv1(x)\n",
    "      \n",
    "        x = self.tanh1(x)\n",
    "      \n",
    "        x = self.max1(x)\n",
    "        \n",
    "        x = self.conv2(x)\n",
    "        x = self.tanh2(x)\n",
    "        x = self.max2(x)\n",
    "        x = self.flatten(x)\n",
    "        x = self.fc1(x)\n",
    "        x = self.tanh3(x)\n",
    "        x = self.fc2(x)\n",
    "        \n",
    "        return x\n",
    "\n",
    "# Transform for normalizing the data\n",
    "transform = transforms.Compose([\n",
    "    transforms.ToTensor(),  # Convert image to PyTorch tensor\n",
    "    transforms.Normalize((0.5,), (0.5,))  # Normalize with mean 0.5 and std 0.5\n",
    "])\n",
    "\n",
    "# Load the FashionMNIST dataset from torchvision\n",
    "trainset = torchvision.datasets.FashionMNIST(root='./data', train=True, download=True, transform=transform)\n",
    "testset = torchvision.datasets.FashionMNIST(root='./data', train=False, download=True, transform=transform)\n",
    "\n",
    "# Create DataLoader for training and test datasets\n",
    "train_loader = DataLoader(trainset, batch_size=64, shuffle=True)\n",
    "test_loader = DataLoader(testset, batch_size=64, shuffle=False)\n",
    "\n",
    "# Instantiate the model, loss function, and optimizer\n",
    "model = FashionMNISTModel()\n",
    "criterion = nn.CrossEntropyLoss()  # Use raw class labels for CrossEntropyLoss\n",
    "optimizer = optim.SGD(model.parameters(), lr=0.001)\n"
   ]
  },
  {
   "cell_type": "code",
   "execution_count": null,
   "id": "3f4dee22",
   "metadata": {
    "ExecuteTime": {
     "end_time": "2025-02-05T13:02:57.181941Z",
     "start_time": "2025-02-05T13:02:56.312138Z"
    }
   },
   "outputs": [],
   "source": [
    "\n",
    "# Training loop\n",
    "\n",
    "def train_model(model, train_loader, epochs, optimizer, criterion):\n",
    "    model.train()  # Set model to training mode\n",
    "    for epoch in range(1, epochs + 1):\n",
    "        epoch_loss = 0.0\n",
    "        for images, labels in train_loader:\n",
    "            optimizer.zero_grad()  # Zero gradients\n",
    "          \n",
    "            outputs = model(images)\n",
    "        \n",
    "            \n",
    "            loss = criterion(outputs, labels)  # Labels are in class indices format\n",
    "            print(loss)\n",
    "            print(loss.size())\n",
    "            raise ValueError\n",
    "            loss.backward()\n",
    "        \n",
    "            optimizer.step()\n",
    "            epoch_loss += loss.item()\n",
    "\n",
    "        avg_loss = epoch_loss / len(train_loader)\n",
    "        print(f'Epoch {epoch}/{epochs}, Loss: {avg_loss:.4f}')\n",
    "\n",
    "# Testing loop\n",
    "\n",
    "train_model(model, train_loader, epochs=10, optimizer=optimizer, criterion=criterion)\n",
    "\n",
    "# Test the model on test data\n",
    "\n"
   ]
  },
  {
   "cell_type": "code",
   "execution_count": null,
   "id": "713583cf",
   "metadata": {},
   "outputs": [],
   "source": [
    "def test_model(model, test_loader):\n",
    "    model.eval()  # Set model to evaluation mode\n",
    "    correct = 0\n",
    "    total = 0\n",
    "    with torch.no_grad():  # Disable gradient calculation for testing\n",
    "        for images, labels in test_loader:\n",
    "            outputs = model(images)\n",
    "            _, predicted = torch.max(outputs, 1)  # Get the class with the highest probability\n",
    "            total += labels.size(0)\n",
    "            correct += (predicted == labels).sum().item()\n",
    "\n",
    "    accuracy = 100 * correct / total\n",
    "    print(f'Test Accuracy: {accuracy:.2f}%')\n",
    "\n",
    "test_model(model, test_loader)"
   ]
  },
  {
   "cell_type": "code",
   "execution_count": null,
   "id": "391ced96",
   "metadata": {},
   "outputs": [],
   "source": [
    "from core.nn import Linear,batchnorm1d,Conv2d,MaxPool2d\n",
    "from core.tensor import Tensor\n",
    "import numpy as np\n",
    "\n",
    "x = Tensor(np.random.randn(1, 1, 28, 28))\n",
    "print(x.data.shape)\n",
    "conv1 = Conv2d(input_channels=1, output_channels=8, kernel_size=3, stride=1, padding=1,initialize_type='xavier',activation='tanh')\n",
    "max1 = MaxPool2d(kernel_size=2, stride=2)\n",
    "linear1 = Linear(8 * 14 * 14, 50, initialize_type='xavier', activation='tanh')\n",
    "linear2 = Linear(50, 10, initialize_type='xavier', activation='softmax')\n",
    "\n"
   ]
  },
  {
   "cell_type": "code",
   "execution_count": null,
   "id": "68af24da",
   "metadata": {},
   "outputs": [],
   "source": [
    "x = conv1(x)\n",
    "x = max1(x)\n",
    "x = linear1(x)"
   ]
  },
  {
   "cell_type": "code",
   "execution_count": null,
   "id": "369406f7",
   "metadata": {},
   "outputs": [],
   "source": [
    "x"
   ]
  },
  {
   "cell_type": "code",
   "execution_count": null,
   "id": "22f08996",
   "metadata": {},
   "outputs": [],
   "source": [
    "x.backward()"
   ]
  },
  {
   "cell_type": "code",
   "execution_count": null,
   "id": "54070275",
   "metadata": {},
   "outputs": [],
   "source": [
    "import numpy as np\n",
    "from core.tensor import Tensor\n",
    "from core.nn import Linear, Conv2d, MaxPool2d  # Also batchnorm1d if needed\n",
    "from core.loss import get_loss_fn, loss_wrapper\n",
    "from core.optim import sgd_tensor  # Your SGD optimizer class\n",
    "from core.Datasets import Dataset  # Your dataset helper (or use the one you defined below)\n",
    "from sklearn.datasets import fetch_openml\n",
    "from sklearn.preprocessing import OneHotEncoder\n",
    "fashion_mnist = fetch_openml('Fashion-MNIST', version=1, as_frame=False)\n",
    "images, labels = fashion_mnist[\"data\"], fashion_mnist[\"target\"].astype(int)\n",
    "images = images.astype('float32') / 255.0\n",
    "images = images.reshape((-1, 1, 28, 28))  # For Conv2d: [B, C, H, W]\n",
    "train_images, test_images = images[:60000], images[60000:]\n",
    "train_labels, test_labels = labels[:60000], labels[60000:]\n",
    "encoder = OneHotEncoder()\n",
    "train_labels = encoder.fit_transform(train_labels.reshape(-1, 1))\n",
    "test_labels = encoder.transform(test_labels.reshape(-1, 1))\n",
    "train_dataset = Dataset(train_images, train_labels, batch_size=64, shuffle=True)"
   ]
  },
  {
   "cell_type": "code",
   "execution_count": null,
   "id": "cfddba34",
   "metadata": {},
   "outputs": [],
   "source": []
  },
  {
   "cell_type": "code",
   "execution_count": 6,
   "id": "9855ba73",
   "metadata": {},
   "outputs": [
    {
     "name": "stdout",
     "output_type": "stream",
     "text": [
      "Epoch 1/10 - Loss: 1.6949\n",
      "Epoch 2/10 - Loss: 1.0832\n",
      "Epoch 3/10 - Loss: 0.9161\n",
      "Epoch 4/10 - Loss: 0.8648\n",
      "Epoch 5/10 - Loss: 0.8467\n",
      "Epoch 6/10 - Loss: 0.8347\n",
      "Epoch 7/10 - Loss: 0.8239\n",
      "Epoch 8/10 - Loss: 0.8146\n",
      "Epoch 9/10 - Loss: 0.8004\n",
      "Epoch 10/10 - Loss: 0.7884\n"
     ]
    }
   ],
   "source": [
    "conv1 = Conv2d(input_channels=1, output_channels=8, kernel_size=3, stride=1, padding=1,initialize_type='xavier', activation='tanh')\n",
    "max1 = MaxPool2d(kernel_size=2, stride=2)\n",
    "conv2 = Conv2d(input_channels=8, output_channels=16, kernel_size=3, stride=1, padding=1,initialize_type='xavier', activation='tanh')\n",
    "max2 = MaxPool2d(kernel_size=2, stride=2)\n",
    "linear1 = Linear(16 * 7 * 7, 50, initialize_type='xavier', activation='tanh')\n",
    "linear2 = Linear(50, 10, initialize_type='xavier', activation='softmax')\n",
    "\n",
    "params = []\n",
    "for layer in [linear2,linear1,conv1,conv2]:\n",
    "    for param in layer.get_parameters().values():\n",
    "        params.append(param)\n",
    "\n",
    "optimizer = sgd_tensor(params, learning_rate=0.001)\n",
    "loss_fn = get_loss_fn('categorical_bce')\n",
    "num_epochs = 10\n",
    "for epoch in range(num_epochs):\n",
    "    train_dataset.reset()  # Reset dataset iterator and reshuffle if needed\n",
    "    epoch_loss = 0.0\n",
    "    num_batches = 0\n",
    "    for X_batch, y_batch in train_dataset:\n",
    "        X_tensor = Tensor(X_batch, requires_grad=True)\n",
    "        out = conv1(X_tensor)\n",
    "        out = out + X_tensor\n",
    "        out = max1(out)\n",
    "        out = conv2(out)\n",
    "        out = max2(out)\n",
    "        out = linear1(out)\n",
    "        out = linear2(out)  # Output shape: (batch_size, 10), probabilities per class.\n",
    "        loss_tensor = loss_wrapper(loss_fn, y_batch, out)\n",
    "        epoch_loss += loss_tensor.data.item() if hasattr(loss_tensor.data, \"item\") else loss_tensor.data\n",
    "        num_batches += 1\n",
    "        loss_tensor.backward()\n",
    "        optimizer.step()\n",
    "    avg_loss = epoch_loss / num_batches\n",
    "    print(f\"Epoch {epoch + 1}/{num_epochs} - Loss: {avg_loss:.4f}\")\n"
   ]
  },
  {
   "cell_type": "code",
   "execution_count": null,
   "id": "39f6e9d8",
   "metadata": {},
   "outputs": [],
   "source": [
    "# ---------------------------\n",
    "# 5. Testing the Model\n",
    "# ---------------------------\n",
    "\n",
    "# Adjust dimensions as needed\n",
    "\n",
    "# Predict\n",
    "x = conv1(test_images)\n",
    "x = x + test_images\n",
    "x = max1(x)\n",
    "x = conv2(x)\n",
    "x = max2(x)\n",
    "x = linear1(x)\n",
    "x = linear2(x)\n",
    "y_pred = x.data\n",
    "y_pred_classes = np.argmax(y_pred, axis=1, keepdims=True)\n",
    "\n",
    "\n",
    "# Use integer labels directly (if test_labels are not one-hot)\n",
    "test_labels = test_labels.toarray()  # Convert sparse matrix to dense NumPy array\n",
    "\n",
    "y_true_classes = np.argmax(test_labels, axis=1, keepdims=True)  # Assuming test_labels are integers\n",
    "print(\"ypred_shape\",y_pred_classes.shape)\n",
    "print(\"y_true_shape\",y_true_classes.shape)\n",
    "# Calculate accuracy\n",
    "accuracy = np.mean(y_pred_classes == y_true_classes)\n",
    "print(f\"Accuracy on test set: {accuracy:.4f}\")\n",
    " \n"
   ]
  },
  {
   "cell_type": "code",
   "execution_count": null,
   "id": "f05f138f",
   "metadata": {},
   "outputs": [],
   "source": [
    "print(x.order)"
   ]
  },
  {
   "cell_type": "code",
   "execution_count": null,
   "id": "fe57f27f",
   "metadata": {},
   "outputs": [],
   "source": []
  }
 ],
 "metadata": {
  "kernelspec": {
   "display_name": "deeplearning",
   "language": "python",
   "name": "python3"
  },
  "language_info": {
   "codemirror_mode": {
    "name": "ipython",
    "version": 3
   },
   "file_extension": ".py",
   "mimetype": "text/x-python",
   "name": "python",
   "nbconvert_exporter": "python",
   "pygments_lexer": "ipython3",
   "version": "3.12.8"
  }
 },
 "nbformat": 4,
 "nbformat_minor": 5
}
